{
 "cells": [
  {
   "cell_type": "code",
   "execution_count": 1,
   "metadata": {},
   "outputs": [
    {
     "name": "stderr",
     "output_type": "stream",
     "text": [
      "C:\\Users\\Administrator\\Anaconda3\\lib\\site-packages\\skimage\\io\\_io.py:48: UserWarning: `as_grey` has been deprecated in favor of `as_gray`\n",
      "  warn('`as_grey` has been deprecated in favor of `as_gray`')\n"
     ]
    }
   ],
   "source": [
    "### Import source\n",
    "from skimage import transform,io,data\n",
    "lena_512 = io.imread('image\\\\lena512.bmp', as_gray=True)\n",
    "lena_256 = transform.resize(lena_512, (256, 256))"
   ]
  },
  {
   "cell_type": "code",
   "execution_count": 2,
   "metadata": {},
   "outputs": [
    {
     "data": {
      "text/plain": [
       "<Figure size 1200x800 with 4 Axes>"
      ]
     },
     "metadata": {},
     "output_type": "display_data"
    }
   ],
   "source": [
    "### Edge filters test\n",
    "import histogram\n",
    "import numpy as np\n",
    "import matplotlib.pyplot as plt\n",
    "from matplotlib import gridspec\n",
    "\n",
    "hist1,_ = histogram.get_histo(img=lena_256,level=256)\n",
    "eqhist_img = histogram.equal_histo(img=lena_256,level=256)\n",
    "hist2,_ = histogram.get_histo(img=eqhist_img,level=256)\n",
    "\n",
    "\n",
    "fig = plt.figure(figsize=(12, 8))\n",
    "gs = gridspec.GridSpec(2,2,width_ratios=[4,8])\n",
    "plt.subplot(gs[0]),plt.imshow(lena_256,cmap=plt.cm.gray)\n",
    "plt.title('lena'), plt.axis('off')\n",
    "\n",
    "plt.subplot(gs[1]),plt.bar(np.arange(256),hist1)\n",
    "plt.title('histogram')\n",
    "\n",
    "plt.subplot(gs[2]),plt.imshow(eqhist_img,cmap=plt.cm.gray)\n",
    "plt.title('equalized image'), plt.axis('off')\n",
    "\n",
    "plt.subplot(gs[3]),plt.bar(np.arange(256),hist2)\n",
    "plt.title('equalized histogram')\n",
    "plt.show()"
   ]
  },
  {
   "cell_type": "code",
   "execution_count": null,
   "metadata": {},
   "outputs": [],
   "source": []
  }
 ],
 "metadata": {
  "kernelspec": {
   "display_name": "Python 3",
   "language": "python",
   "name": "python3"
  },
  "language_info": {
   "codemirror_mode": {
    "name": "ipython",
    "version": 3
   },
   "file_extension": ".py",
   "mimetype": "text/x-python",
   "name": "python",
   "nbconvert_exporter": "python",
   "pygments_lexer": "ipython3",
   "version": "3.7.3"
  }
 },
 "nbformat": 4,
 "nbformat_minor": 1
}
